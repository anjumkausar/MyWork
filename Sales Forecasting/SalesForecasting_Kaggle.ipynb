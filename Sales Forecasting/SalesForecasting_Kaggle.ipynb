{
 "cells": [
  {
   "cell_type": "code",
   "execution_count": 1,
   "id": "1906d72f",
   "metadata": {
    "_cell_guid": "b1076dfc-b9ad-4769-8c92-a6c4dae69d19",
    "_uuid": "8f2839f25d086af736a60e9eeb907d3b93b6e0e5",
    "execution": {
     "iopub.execute_input": "2024-03-28T01:09:12.895853Z",
     "iopub.status.busy": "2024-03-28T01:09:12.895490Z",
     "iopub.status.idle": "2024-03-28T01:09:13.729816Z",
     "shell.execute_reply": "2024-03-28T01:09:13.728692Z"
    },
    "papermill": {
     "duration": 0.841355,
     "end_time": "2024-03-28T01:09:13.732126",
     "exception": false,
     "start_time": "2024-03-28T01:09:12.890771",
     "status": "completed"
    },
    "tags": []
   },
   "outputs": [
    {
     "name": "stdout",
     "output_type": "stream",
     "text": [
      "/kaggle/input/sales-forecasting/sample_submission.csv\n",
      "/kaggle/input/sales-forecasting/train.csv\n",
      "/kaggle/input/sales-forecasting/test.csv\n",
      "/kaggle/input/sales-forecasting/EconomicIndicators.csv\n"
     ]
    }
   ],
   "source": [
    "# This Python 3 environment comes with many helpful analytics libraries installed\n",
    "# It is defined by the kaggle/python Docker image: https://github.com/kaggle/docker-python\n",
    "# For example, here's several helpful packages to load\n",
    "\n",
    "import numpy as np # linear algebra\n",
    "import pandas as pd # data processing, CSV file I/O (e.g. pd.read_csv)\n",
    "\n",
    "# Input data files are available in the read-only \"../input/\" directory\n",
    "# For example, running this (by clicking run or pressing Shift+Enter) will list all files under the input directory\n",
    "\n",
    "import os\n",
    "for dirname, _, filenames in os.walk('/kaggle/input'):\n",
    "    for filename in filenames:\n",
    "        print(os.path.join(dirname, filename))\n",
    "\n",
    "# You can write up to 20GB to the current directory (/kaggle/working/) that gets preserved as output when you create a version using \"Save & Run All\" \n",
    "# You can also write temporary files to /kaggle/temp/, but they won't be saved outside of the current session"
   ]
  },
  {
   "cell_type": "code",
   "execution_count": 2,
   "id": "2fe80077",
   "metadata": {
    "execution": {
     "iopub.execute_input": "2024-03-28T01:09:13.738771Z",
     "iopub.status.busy": "2024-03-28T01:09:13.738321Z",
     "iopub.status.idle": "2024-03-28T01:09:13.809053Z",
     "shell.execute_reply": "2024-03-28T01:09:13.807970Z"
    },
    "papermill": {
     "duration": 0.07841,
     "end_time": "2024-03-28T01:09:13.813302",
     "exception": false,
     "start_time": "2024-03-28T01:09:13.734892",
     "status": "completed"
    },
    "tags": []
   },
   "outputs": [
    {
     "name": "stdout",
     "output_type": "stream",
     "text": [
      "Train Data:\n",
      "   ID Company Quarter  QuickRatio  InventoryRatio  RevenueGrowth  \\\n",
      "0   0   CMP01      Q1        2.02            7.71           0.05   \n",
      "1   1   CMP01      Q2        2.01            4.10           0.03   \n",
      "2   2   CMP01      Q3        2.02            6.79           0.06   \n",
      "3   3   CMP01      Q4        1.98            3.97           0.01   \n",
      "4   4   CMP01      Q5        1.96            7.41          -0.07   \n",
      "\n",
      "   MarketshareChange Bond rating Stock rating Region           Industry  \\\n",
      "0              -0.04         CCC          Buy  South  Metal Fabrication   \n",
      "1               0.00         CCC         Hold  South  Metal Fabrication   \n",
      "2              -0.02         CCC          Buy  South  Metal Fabrication   \n",
      "3               0.02         CCC          Buy  South  Metal Fabrication   \n",
      "4               0.02         CCC          Buy  South  Metal Fabrication   \n",
      "\n",
      "    Sales  \n",
      "0  1517.0  \n",
      "1  2968.0  \n",
      "2  1497.0  \n",
      "3  2929.0  \n",
      "4  1452.0  \n",
      "\n",
      "Test Data:\n",
      "   ID Company Quarter  QuickRatio  InventoryRatio  RevenueGrowth  \\\n",
      "0   7   CMP01      Q8        1.93            2.79          -0.03   \n",
      "1   8   CMP01      Q9        1.93            4.77           0.00   \n",
      "2  16   CMP02      Q8        1.97            2.34           0.04   \n",
      "3  17   CMP02      Q9        1.93            4.14           0.04   \n",
      "4  25   CMP03      Q8        0.67             NaN          -0.05   \n",
      "\n",
      "   MarketshareChange Bond rating Stock rating Region           Industry  \n",
      "0              -0.01         CCC          Buy  South  Metal Fabrication  \n",
      "1               0.00         CCC          Buy  South  Metal Fabrication  \n",
      "2              -0.03           A         Sell   West     Infrastructure  \n",
      "3               0.01         BBB         Hold   West     Infrastructure  \n",
      "4              -0.01          BB          Buy   East     Infrastructure  \n",
      "\n",
      "Economic Indicators Data:\n",
      "   Month  Consumer Sentiment  Interest Rate   PMI  Money Supply  NationalEAI  \\\n",
      "0      1                67.2       1.538500  55.5       20847.8    57.083078   \n",
      "1      2                62.8       1.811579  57.3       20964.3    47.496553   \n",
      "2      3                59.4       2.109130  58.8       21115.6    41.697385   \n",
      "3      4                65.2       2.777500  59.2       21315.8    48.503429   \n",
      "4      5                58.4       2.874286  57.0       21549.3    41.535949   \n",
      "\n",
      "     EastEAI    WestEAI   SouthEAI   NorthEAI  \n",
      "0  56.512247  54.628506  56.512247  57.083078  \n",
      "1  45.454201  47.021588  45.454201  47.496553  \n",
      "2  39.904398  42.656425  41.280411  41.697385  \n",
      "3  46.417782  46.417782  48.018395  43.653086  \n",
      "4  38.379217  39.749903  42.491276  49.843138  \n",
      "\n",
      "Sample Submission:\n",
      "   ID  Sales\n",
      "0   7    200\n",
      "1   8    200\n",
      "2  16    200\n",
      "3  17    200\n",
      "4  25    200\n",
      "\n",
      "Missing Values in Train Data:\n",
      "ID                     0\n",
      "Company                0\n",
      "Quarter                0\n",
      "QuickRatio             0\n",
      "InventoryRatio       152\n",
      "RevenueGrowth          0\n",
      "MarketshareChange      0\n",
      "Bond rating            0\n",
      "Stock rating           0\n",
      "Region                 0\n",
      "Industry               0\n",
      "Sales                150\n",
      "dtype: int64\n",
      "\n",
      "Missing Values in Test Data:\n",
      "ID                    0\n",
      "Company               0\n",
      "Quarter               0\n",
      "QuickRatio            0\n",
      "InventoryRatio       32\n",
      "RevenueGrowth         0\n",
      "MarketshareChange     0\n",
      "Bond rating           0\n",
      "Stock rating          0\n",
      "Region                0\n",
      "Industry              0\n",
      "dtype: int64\n",
      "\n",
      "Missing Values in Economic Indicators Data:\n",
      "Month                 0\n",
      "Consumer Sentiment    0\n",
      "Interest Rate         0\n",
      "PMI                   0\n",
      "Money Supply          0\n",
      "NationalEAI           0\n",
      "EastEAI               0\n",
      "WestEAI               0\n",
      "SouthEAI              0\n",
      "NorthEAI              0\n",
      "dtype: int64\n"
     ]
    }
   ],
   "source": [
    "# Load the datasets\n",
    "train_df = pd.read_csv('/kaggle/input/sales-forecasting/train.csv')\n",
    "test_df = pd.read_csv('/kaggle/input/sales-forecasting/test.csv')\n",
    "economic_indicators_df = pd.read_csv('/kaggle/input/sales-forecasting/EconomicIndicators.csv')\n",
    "sample_submission_df = pd.read_csv('/kaggle/input/sales-forecasting/sample_submission.csv')\n",
    "\n",
    "# Display the first few rows to understand the structure\n",
    "print(\"Train Data:\")\n",
    "print(train_df.head())\n",
    "print(\"\\nTest Data:\")\n",
    "print(test_df.head())\n",
    "print(\"\\nEconomic Indicators Data:\")\n",
    "print(economic_indicators_df.head())\n",
    "print(\"\\nSample Submission:\")\n",
    "print(sample_submission_df.head())\n",
    "\n",
    "# Check for missing values\n",
    "print(\"\\nMissing Values in Train Data:\")\n",
    "print(train_df.isnull().sum())\n",
    "print(\"\\nMissing Values in Test Data:\")\n",
    "print(test_df.isnull().sum())\n",
    "print(\"\\nMissing Values in Economic Indicators Data:\")\n",
    "print(economic_indicators_df.isnull().sum())"
   ]
  },
  {
   "cell_type": "code",
   "execution_count": 3,
   "id": "b78cccca",
   "metadata": {
    "execution": {
     "iopub.execute_input": "2024-03-28T01:09:13.820230Z",
     "iopub.status.busy": "2024-03-28T01:09:13.819854Z",
     "iopub.status.idle": "2024-03-28T01:09:13.851222Z",
     "shell.execute_reply": "2024-03-28T01:09:13.850282Z"
    },
    "papermill": {
     "duration": 0.037682,
     "end_time": "2024-03-28T01:09:13.853681",
     "exception": false,
     "start_time": "2024-03-28T01:09:13.815999",
     "status": "completed"
    },
    "tags": []
   },
   "outputs": [],
   "source": [
    "# Handling missing values for InventoryRatio without chaining\n",
    "train_df['InventoryRatio'] = train_df['InventoryRatio'].fillna(train_df['InventoryRatio'].median())\n",
    "test_df['InventoryRatio'] = test_df['InventoryRatio'].fillna(test_df['InventoryRatio'].median())\n",
    "\n",
    "# Removing rows with missing Sales values in training data\n",
    "train_df.dropna(subset=['Sales'], inplace=True)\n",
    "\n",
    "# Convert Quarter into numerical values\n",
    "def quarter_to_month(quarter):\n",
    "    return (int(quarter[-1]) - 1) * 3 + 1\n",
    "\n",
    "train_df['Month'] = train_df['Quarter'].apply(quarter_to_month)\n",
    "test_df['Month'] = test_df['Quarter'].apply(quarter_to_month)\n",
    "\n",
    "# Merge economic indicators with train and test data\n",
    "train_df = pd.merge(train_df, economic_indicators_df, on='Month')\n",
    "test_df = pd.merge(test_df, economic_indicators_df, on='Month')\n"
   ]
  },
  {
   "cell_type": "code",
   "execution_count": 4,
   "id": "1ecaf3fe",
   "metadata": {
    "execution": {
     "iopub.execute_input": "2024-03-28T01:09:13.861258Z",
     "iopub.status.busy": "2024-03-28T01:09:13.860828Z",
     "iopub.status.idle": "2024-03-28T01:09:16.201860Z",
     "shell.execute_reply": "2024-03-28T01:09:16.200798Z"
    },
    "papermill": {
     "duration": 2.347569,
     "end_time": "2024-03-28T01:09:16.204030",
     "exception": false,
     "start_time": "2024-03-28T01:09:13.856461",
     "status": "completed"
    },
    "tags": []
   },
   "outputs": [
    {
     "name": "stdout",
     "output_type": "stream",
     "text": [
      "Mean Absolute Error on Training Set: 342.3149761904762\n",
      "Mean Absolute Error on Validation Set: 1022.2146666666666\n"
     ]
    }
   ],
   "source": [
    "from sklearn.model_selection import train_test_split\n",
    "from sklearn.ensemble import RandomForestRegressor\n",
    "from sklearn.metrics import mean_absolute_error\n",
    "from sklearn.preprocessing import OneHotEncoder\n",
    "from pandas.api.types import is_string_dtype, is_numeric_dtype\n",
    "\n",
    "# A simple function to preprocess the data\n",
    "def preprocess_data(df):\n",
    "    for n, c in df.items():\n",
    "        if is_string_dtype(c):\n",
    "            df[n] = c.astype('category').cat.as_ordered()\n",
    "    return pd.get_dummies(df, dummy_na=True)\n",
    "\n",
    "# Preprocess the training and test datasets\n",
    "X_train = preprocess_data(train_df.drop(['Sales', 'ID', 'Month'], axis=1))\n",
    "y_train = train_df['Sales']\n",
    "X_test = preprocess_data(test_df.drop(['ID', 'Month'], axis=1))\n",
    "\n",
    "# Align the features of X_train and X_test\n",
    "X_train, X_test = X_train.align(X_test, join='outer', axis=1, fill_value=0)\n",
    "\n",
    "# Splitting the preprocessed training data into training and validation sets\n",
    "X_train_split, X_val_split, y_train_split, y_val_split = train_test_split(X_train, y_train, test_size=0.2, random_state=42)\n",
    "\n",
    "# Model selection and training\n",
    "model = RandomForestRegressor(n_estimators=100, random_state=42)\n",
    "model.fit(X_train_split, y_train_split)\n",
    "\n",
    "# Evaluation\n",
    "y_pred_train = model.predict(X_train_split)\n",
    "mae_train = mean_absolute_error(y_train_split, y_pred_train)\n",
    "print(f'Mean Absolute Error on Training Set: {mae_train}')\n",
    "\n",
    "y_pred_val = model.predict(X_val_split)\n",
    "mae_val = mean_absolute_error(y_val_split, y_pred_val)\n",
    "print(f'Mean Absolute Error on Validation Set: {mae_val}')\n",
    "\n",
    "# Predicting on the test set and preparing the submission file\n",
    "predictions = model.predict(X_test)\n",
    "submission_df = pd.DataFrame({'ID': test_df['ID'], 'Sales': predictions})\n",
    "submission_df.to_csv('/kaggle/working/submission.csv', index=False)\n",
    "\n"
   ]
  },
  {
   "cell_type": "code",
   "execution_count": 5,
   "id": "0f87b099",
   "metadata": {
    "execution": {
     "iopub.execute_input": "2024-03-28T01:09:16.211796Z",
     "iopub.status.busy": "2024-03-28T01:09:16.210667Z",
     "iopub.status.idle": "2024-03-28T01:09:16.219393Z",
     "shell.execute_reply": "2024-03-28T01:09:16.218243Z"
    },
    "papermill": {
     "duration": 0.014951,
     "end_time": "2024-03-28T01:09:16.221777",
     "exception": false,
     "start_time": "2024-03-28T01:09:16.206826",
     "status": "completed"
    },
    "tags": []
   },
   "outputs": [
    {
     "name": "stdout",
     "output_type": "stream",
     "text": [
      "   ID  Sales\n",
      "0   7   2699\n",
      "1   8   2466\n",
      "2  16   4212\n",
      "3  17   3893\n",
      "4  25   4574\n"
     ]
    }
   ],
   "source": [
    "# Rounding the 'Sales' column to the nearest whole number\n",
    "submission_df['Sales'] = submission_df['Sales'].round(0).astype(int)\n",
    "print(submission_df.head())"
   ]
  }
 ],
 "metadata": {
  "kaggle": {
   "accelerator": "none",
   "dataSources": [
    {
     "databundleVersionId": 7678377,
     "sourceId": 70083,
     "sourceType": "competition"
    }
   ],
   "dockerImageVersionId": 30673,
   "isGpuEnabled": false,
   "isInternetEnabled": false,
   "language": "python",
   "sourceType": "notebook"
  },
  "kernelspec": {
   "display_name": "Python 3",
   "language": "python",
   "name": "python3"
  },
  "language_info": {
   "codemirror_mode": {
    "name": "ipython",
    "version": 3
   },
   "file_extension": ".py",
   "mimetype": "text/x-python",
   "name": "python",
   "nbconvert_exporter": "python",
   "pygments_lexer": "ipython3",
   "version": "3.10.13"
  },
  "papermill": {
   "default_parameters": {},
   "duration": 7.025148,
   "end_time": "2024-03-28T01:09:16.845601",
   "environment_variables": {},
   "exception": null,
   "input_path": "__notebook__.ipynb",
   "output_path": "__notebook__.ipynb",
   "parameters": {},
   "start_time": "2024-03-28T01:09:09.820453",
   "version": "2.5.0"
  }
 },
 "nbformat": 4,
 "nbformat_minor": 5
}
